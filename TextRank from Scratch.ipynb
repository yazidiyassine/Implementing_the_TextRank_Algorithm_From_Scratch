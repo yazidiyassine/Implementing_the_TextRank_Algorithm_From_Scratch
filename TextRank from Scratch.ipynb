{
 "cells": [
  {
   "cell_type": "markdown",
   "id": "4e1af5f9",
   "metadata": {},
   "source": [
    "# TextRank Algorithm from Scratch"
   ]
  },
  {
   "cell_type": "markdown",
   "id": "5a568b5b",
   "metadata": {},
   "source": [
    "TextRank is a popular graph-based algorithm used for automatic text summarization and keyword extraction in Natural Language Processing (NLP). It is inspired by the PageRank algorithm used by Google to rank web pages in search results. TextRank represents a document as a graph, where each sentence (or word) is a node, and edges between nodes represent the relationship between sentences (or words). The algorithm assigns scores to each node, representing the importance or centrality of the sentence (or word) in the text."
   ]
  },
  {
   "cell_type": "markdown",
   "id": "e33e208e",
   "metadata": {},
   "source": [
    "This exercise takes you through the process of the TextRank algorithm. Here, we will\n",
    "fetch the dataset and summarize the articles present in it with the help of the TextRank\n",
    "algorithm."
   ]
  },
  {
   "cell_type": "code",
   "execution_count": 2,
   "id": "959c7f5c",
   "metadata": {},
   "outputs": [],
   "source": [
    "# %pip install --upgrade numpy \n",
    "import numpy as np\n",
    "import pandas as pd\n",
    "\n",
    "import nltk\n",
    "import re\n",
    "# %pip install contractions\n",
    "import contractions"
   ]
  },
  {
   "cell_type": "markdown",
   "id": "4c0694ff",
   "metadata": {},
   "source": [
    "The code also downloads the nltk Punkt tokenizer models. These will be used to\n",
    "tokenize the sentences and words in the articles."
   ]
  },
  {
   "cell_type": "code",
   "execution_count": 3,
   "id": "dcc96e01",
   "metadata": {},
   "outputs": [],
   "source": [
    "# nltk.download('punkt')\n",
    "pd.set_option('display.max_colwidth', 1000)"
   ]
  },
  {
   "cell_type": "markdown",
   "id": "53474840",
   "metadata": {},
   "source": [
    "In this step, we will load GloVe vector word representations, which are located in a\n",
    "ZIP file. The code given here is used to extract the file:"
   ]
  },
  {
   "cell_type": "code",
   "execution_count": 4,
   "id": "bcaa3cd0",
   "metadata": {},
   "outputs": [],
   "source": [
    "import zipfile\n",
    "\n",
    "GLOVE_DIR = 'datasets/glove/'\n",
    "GLOVE_ZIP = GLOVE_DIR + 'glove.6B.50d.zip'"
   ]
  },
  {
   "cell_type": "code",
   "execution_count": 5,
   "id": "bc94d3dc",
   "metadata": {},
   "outputs": [
    {
     "data": {
      "text/plain": [
       "<bound method ZipFile.close of <zipfile.ZipFile filename='datasets/glove/glove.6B.50d.zip' mode='r'>>"
      ]
     },
     "execution_count": 5,
     "metadata": {},
     "output_type": "execute_result"
    }
   ],
   "source": [
    "zip_ref = zipfile.ZipFile(GLOVE_ZIP, 'r')\n",
    "zip_ref.extractall(GLOVE_DIR)\n",
    "zip_ref.close"
   ]
  },
  {
   "cell_type": "markdown",
   "id": "b1314913",
   "metadata": {},
   "source": [
    "After extracting the glove vectors, we need to load them into a dictionary. With\n",
    "this dictionary, we can find the vector for each word."
   ]
  },
  {
   "cell_type": "code",
   "execution_count": 6,
   "id": "50069d4f",
   "metadata": {},
   "outputs": [],
   "source": [
    "def load_golve_vectors(fn):\n",
    "    print(\"Loading GLove Model\")\n",
    "    with open(fn, 'r', encoding='utf-8') as glove_vector_file:\n",
    "        model = {}\n",
    "        for line in glove_vector_file:\n",
    "            parts = line.split()\n",
    "            word = parts[0]\n",
    "            embeddings = np.array([float(val) for val in parts[1:]])\n",
    "            model[word] = embeddings\n",
    "        print(\"loaded {} words\".format(len(model)))\n",
    "    return model"
   ]
  },
  {
   "cell_type": "code",
   "execution_count": 7,
   "id": "9b48cf64",
   "metadata": {},
   "outputs": [
    {
     "name": "stdout",
     "output_type": "stream",
     "text": [
      "Loading GLove Model\n",
      "loaded 400000 words\n"
     ]
    }
   ],
   "source": [
    "glove_vectors = load_golve_vectors('datasets/glove/glove.6B.50d.txt')"
   ]
  },
  {
   "cell_type": "markdown",
   "id": "39127f00",
   "metadata": {},
   "source": [
    "Now we can read the tennis articles, which are located in a CSV file in the data\n",
    "directory."
   ]
  },
  {
   "cell_type": "code",
   "execution_count": 8,
   "id": "4cd6a097",
   "metadata": {},
   "outputs": [
    {
     "data": {
      "text/html": [
       "<div>\n",
       "<style scoped>\n",
       "    .dataframe tbody tr th:only-of-type {\n",
       "        vertical-align: middle;\n",
       "    }\n",
       "\n",
       "    .dataframe tbody tr th {\n",
       "        vertical-align: top;\n",
       "    }\n",
       "\n",
       "    .dataframe thead th {\n",
       "        text-align: right;\n",
       "    }\n",
       "</style>\n",
       "<table border=\"1\" class=\"dataframe\">\n",
       "  <thead>\n",
       "    <tr style=\"text-align: right;\">\n",
       "      <th></th>\n",
       "      <th>article_id</th>\n",
       "      <th>article_text</th>\n",
       "      <th>source</th>\n",
       "    </tr>\n",
       "  </thead>\n",
       "  <tbody>\n",
       "    <tr>\n",
       "      <th>0</th>\n",
       "      <td>1</td>\n",
       "      <td>Maria Sharapova has basically no friends as tennis players on the WTA Tour. The Russian player has no problems in openly speaking about it and in a recent interview she said: 'I don't really hide any feelings too much. I think everyone knows this is my job here. When I'm on the courts or when I'm on the court playing, I'm a competitor and I want to beat every single person whether they're in the locker room or across the net.So I'm not the one to strike up a conversation about the weather and know that in the next few minutes I have to go and try to win a tennis match. I'm a pretty competitive girl. I say my hellos, but I'm not sending any players flowers as well. Uhm, I'm not really friendly or close to many players. I have not a lot of friends away from the courts.' When she said she is not really close to a lot of players, is that something strategic that she is doing? Is it different on the men's tour than the women's tour? 'No, not at all. I think just because you're in the sa...</td>\n",
       "      <td>https://www.tennisworldusa.org/tennis/news/Maria_Sharapova/62220/i-do-not-have-friends-in-tennis-says-maria-sharapova/</td>\n",
       "    </tr>\n",
       "    <tr>\n",
       "      <th>1</th>\n",
       "      <td>2</td>\n",
       "      <td>BASEL, Switzerland (AP), Roger Federer advanced to the 14th Swiss Indoors final of his career by beating seventh-seeded Daniil Medvedev 6-1, 6-4 on Saturday. Seeking a ninth title at his hometown event, and a 99th overall, Federer will play 93th-ranked Marius Copil on Sunday. Federer dominated the 20th-ranked Medvedev and had his first match-point chance to break serve again at 5-1. He then dropped his serve to love, and let another match point slip in Medvedev's next service game by netting a backhand. He clinched on his fourth chance when Medvedev netted from the baseline. Copil upset expectations of a Federer final against Alexander Zverev in a 6-3, 6-7 (6), 6-4 win over the fifth-ranked German in the earlier semifinal. The Romanian aims for a first title after arriving at Basel without a career win over a top-10 opponent. Copil has two after also beating No. 6 Marin Cilic in the second round. Copil fired 26 aces past Zverev and never dropped serve, clinching after 2 1/2 hours w...</td>\n",
       "      <td>http://www.tennis.com/pro-game/2018/10/copil-stuns-5th-ranked-zverev-to-reach-swiss-indoors-final/77721/</td>\n",
       "    </tr>\n",
       "  </tbody>\n",
       "</table>\n",
       "</div>"
      ],
      "text/plain": [
       "   article_id  \\\n",
       "0           1   \n",
       "1           2   \n",
       "\n",
       "                                                                                                                                                                                                                                                                                                                                                                                                                                                                                                                                                                                                                                                                                                                                                                                                                                                                                                                                                                                                                              article_text  \\\n",
       "0  Maria Sharapova has basically no friends as tennis players on the WTA Tour. The Russian player has no problems in openly speaking about it and in a recent interview she said: 'I don't really hide any feelings too much. I think everyone knows this is my job here. When I'm on the courts or when I'm on the court playing, I'm a competitor and I want to beat every single person whether they're in the locker room or across the net.So I'm not the one to strike up a conversation about the weather and know that in the next few minutes I have to go and try to win a tennis match. I'm a pretty competitive girl. I say my hellos, but I'm not sending any players flowers as well. Uhm, I'm not really friendly or close to many players. I have not a lot of friends away from the courts.' When she said she is not really close to a lot of players, is that something strategic that she is doing? Is it different on the men's tour than the women's tour? 'No, not at all. I think just because you're in the sa...   \n",
       "1  BASEL, Switzerland (AP), Roger Federer advanced to the 14th Swiss Indoors final of his career by beating seventh-seeded Daniil Medvedev 6-1, 6-4 on Saturday. Seeking a ninth title at his hometown event, and a 99th overall, Federer will play 93th-ranked Marius Copil on Sunday. Federer dominated the 20th-ranked Medvedev and had his first match-point chance to break serve again at 5-1. He then dropped his serve to love, and let another match point slip in Medvedev's next service game by netting a backhand. He clinched on his fourth chance when Medvedev netted from the baseline. Copil upset expectations of a Federer final against Alexander Zverev in a 6-3, 6-7 (6), 6-4 win over the fifth-ranked German in the earlier semifinal. The Romanian aims for a first title after arriving at Basel without a career win over a top-10 opponent. Copil has two after also beating No. 6 Marin Cilic in the second round. Copil fired 26 aces past Zverev and never dropped serve, clinching after 2 1/2 hours w...   \n",
       "\n",
       "                                                                                                                   source  \n",
       "0  https://www.tennisworldusa.org/tennis/news/Maria_Sharapova/62220/i-do-not-have-friends-in-tennis-says-maria-sharapova/  \n",
       "1                http://www.tennis.com/pro-game/2018/10/copil-stuns-5th-ranked-zverev-to-reach-swiss-indoors-final/77721/  "
      ]
     },
     "execution_count": 8,
     "metadata": {},
     "output_type": "execute_result"
    }
   ],
   "source": [
    "articles = pd.read_csv('datasets/tennis_articles_v4.csv')\n",
    "articles.head(2)"
   ]
  },
  {
   "cell_type": "code",
   "execution_count": 24,
   "id": "43accf71",
   "metadata": {},
   "outputs": [],
   "source": [
    "# nltk.download('stopwords')\n",
    "from nltk.corpus import stopwords\n",
    "stop_words = stopwords.words('english')"
   ]
  },
  {
   "cell_type": "markdown",
   "id": "ad637a56",
   "metadata": {},
   "source": [
    "the following code will download and load the NLTK English language stopwords:"
   ]
  },
  {
   "cell_type": "markdown",
   "id": "0ce83445",
   "metadata": {},
   "source": [
    "The code given here creates a number of functions that will clean the article text,\n",
    "as well as tokenizing it into words and sentences:"
   ]
  },
  {
   "cell_type": "code",
   "execution_count": 10,
   "id": "eca85b98",
   "metadata": {},
   "outputs": [],
   "source": [
    "from nltk.tokenize import sent_tokenize, word_tokenize\n",
    "\n",
    "CLEAN_PATTER = r'[^a-zA-Z\\s]'\n",
    "\n",
    "def clean(word):\n",
    "    return re.sub(CLEAN_PATTER, ' ', word)\n",
    "\n",
    "def clean_sentence(sentence):\n",
    "    sentence = [clean(word) for word in sentence]\n",
    "    return [word for word in sentence if word]\n",
    "\n",
    "def clean_sentences(sentences):\n",
    "    return [clean_sentence(sentence) for sentence in sentences]\n",
    "\n",
    "def lower(sentence):\n",
    "    return [word.lower() for word in sentence]\n",
    "\n",
    "def remove_stopwords(sentence):\n",
    "    words = [word for word in sentence if word not in stop_words]\n",
    "    return [word for word in words if len(word) > 0]\n",
    "\n",
    "def tokenize_words(sentences):\n",
    "    return [word_tokenize(sentence) for sentence in sentences]\n",
    "\n",
    "def fix_contractions(sentences):\n",
    "    return [contractions.fix(sentence) for sentence in sentences]"
   ]
  },
  {
   "cell_type": "markdown",
   "id": "d80ff3a4",
   "metadata": {},
   "source": [
    "Now apply the functions we just created to the articles. This will split each article\n",
    "into sentences and each sentence into words. Note that, because we are using\n",
    "DataFrames, we can apply the functions to each of the seven articles in the\n",
    "dataset:"
   ]
  },
  {
   "cell_type": "code",
   "execution_count": 11,
   "id": "8948e6fa",
   "metadata": {},
   "outputs": [],
   "source": [
    "articles['SentencesInArticle'] = articles.article_text.apply(sent_tokenize)\n",
    "\n",
    "articles['WordsInSentences'] = articles.SentencesInArticle\\\n",
    "                .apply(fix_contractions)\\\n",
    "                .apply(lower)\\\n",
    "                .apply(tokenize_words)\\\n",
    "                .apply(remove_stopwords)\\\n",
    "                .apply(clean_sentences)"
   ]
  },
  {
   "cell_type": "markdown",
   "id": "896d9410",
   "metadata": {},
   "source": [
    "Now subset the article columns to see the SentencesInArticles and\n",
    "WordInSentences columns. We will use the head() function to see the first two\n",
    "records:"
   ]
  },
  {
   "cell_type": "code",
   "execution_count": 12,
   "id": "c3ef6b8c",
   "metadata": {
    "collapsed": true
   },
   "outputs": [
    {
     "data": {
      "text/html": [
       "<div>\n",
       "<style scoped>\n",
       "    .dataframe tbody tr th:only-of-type {\n",
       "        vertical-align: middle;\n",
       "    }\n",
       "\n",
       "    .dataframe tbody tr th {\n",
       "        vertical-align: top;\n",
       "    }\n",
       "\n",
       "    .dataframe thead th {\n",
       "        text-align: right;\n",
       "    }\n",
       "</style>\n",
       "<table border=\"1\" class=\"dataframe\">\n",
       "  <thead>\n",
       "    <tr style=\"text-align: right;\">\n",
       "      <th></th>\n",
       "      <th>SentencesInArticle</th>\n",
       "      <th>WordsInSentences</th>\n",
       "    </tr>\n",
       "  </thead>\n",
       "  <tbody>\n",
       "    <tr>\n",
       "      <th>0</th>\n",
       "      <td>[Maria Sharapova has basically no friends as tennis players on the WTA Tour., The Russian player has no problems in openly speaking about it and in a recent interview she said: 'I don't really hide any feelings too much., I think everyone knows this is my job here., When I'm on the courts or when I'm on the court playing, I'm a competitor and I want to beat every single person whether they're in the locker room or across the net.So I'm not the one to strike up a conversation about the weather and know that in the next few minutes I have to go and try to win a tennis match., I'm a pretty competitive girl., I say my hellos, but I'm not sending any players flowers as well., Uhm, I'm not really friendly or close to many players., I have not a lot of friends away from the courts.', When she said she is not really close to a lot of players, is that something strategic that she is doing?, Is it different on the men's tour than the women's tour?, 'No, not at all., I think just because you'...</td>\n",
       "      <td>[[maria, sharapova, has, basically, no, friends, as, tennis, players, on, the, wta, tour,  ], [the, russian, player, has, no, problems, in, openly, speaking, about, it, and, in, a, recent, interview, she, said,  ,  , i, do, not, really, hide, any, feelings, too, much,  ], [i, think, everyone, knows, this, is, my, job, here,  ], [when, i, am, on, the, courts, or, when, i, am, on, the, court, playing,  , i, am, a, competitor, and, i, want, to, beat, every, single, person, whether, they, are, in, the, locker, room, or, across, the, net so, i, am, not, the, one, to, strike, up, a, conversation, about, the, weather, and, know, that, in, the, next, few, minutes, i, have, to, go, and, try, to, win, a, tennis, match,  ], [i, am, a, pretty, competitive, girl,  ], [i, say, my, hellos,  , but, i, am, not, sending, any, players, flowers, as, well,  ], [uhm,  , i, am, not, really, friendly, or, close, to, many, players,  ], [i, have, not, a, lot, of, friends, away, from, the, courts,  ,  ], [wh...</td>\n",
       "    </tr>\n",
       "    <tr>\n",
       "      <th>1</th>\n",
       "      <td>[BASEL, Switzerland (AP), Roger Federer advanced to the 14th Swiss Indoors final of his career by beating seventh-seeded Daniil Medvedev 6-1, 6-4 on Saturday., Seeking a ninth title at his hometown event, and a 99th overall, Federer will play 93th-ranked Marius Copil on Sunday., Federer dominated the 20th-ranked Medvedev and had his first match-point chance to break serve again at 5-1., He then dropped his serve to love, and let another match point slip in Medvedev's next service game by netting a backhand., He clinched on his fourth chance when Medvedev netted from the baseline., Copil upset expectations of a Federer final against Alexander Zverev in a 6-3, 6-7 (6), 6-4 win over the fifth-ranked German in the earlier semifinal., The Romanian aims for a first title after arriving at Basel without a career win over a top-10 opponent., Copil has two after also beating No., 6 Marin Cilic in the second round., Copil fired 26 aces past Zverev and never dropped serve, clinching after 2 1...</td>\n",
       "      <td>[[basel,  , switzerland,  , ap,  ,  , roger, federer, advanced, to, the,   th, swiss, indoors, final, of, his, career, by, beating, seventh seeded, daniil, medvedev,    ,  ,    , on, saturday,  ], [seeking, a, ninth, title, at, his, hometown, event,  , and, a,   th, overall,  , federer, will, play,   th ranked, marius, copil, on, sunday,  ], [federer, dominated, the,   th ranked, medvedev, and, had, his, first, match point, chance, to, break, serve, again, at,    ,  ], [he, then, dropped, his, serve, to, love,  , and, let, another, match, point, slip, in, medvedev,  s, next, service, game, by, netting, a, backhand,  ], [he, clinched, on, his, fourth, chance, when, medvedev, netted, from, the, baseline,  ], [copil, upset, expectations, of, a, federer, final, against, alexander, zverev, in, a,    ,  ,    ,  ,  ,  ,  ,    , win, over, the, fifth ranked, german, in, the, earlier, semifinal,  ], [the, romanian, aims, for, a, first, title, after, arriving, at, basel, without, a, career, ...</td>\n",
       "    </tr>\n",
       "  </tbody>\n",
       "</table>\n",
       "</div>"
      ],
      "text/plain": [
       "                                                                                                                                                                                                                                                                                                                                                                                                                                                                                                                                                                                                                                                                                                                                                                                                                                                                                                                                                                                                                        SentencesInArticle  \\\n",
       "0  [Maria Sharapova has basically no friends as tennis players on the WTA Tour., The Russian player has no problems in openly speaking about it and in a recent interview she said: 'I don't really hide any feelings too much., I think everyone knows this is my job here., When I'm on the courts or when I'm on the court playing, I'm a competitor and I want to beat every single person whether they're in the locker room or across the net.So I'm not the one to strike up a conversation about the weather and know that in the next few minutes I have to go and try to win a tennis match., I'm a pretty competitive girl., I say my hellos, but I'm not sending any players flowers as well., Uhm, I'm not really friendly or close to many players., I have not a lot of friends away from the courts.', When she said she is not really close to a lot of players, is that something strategic that she is doing?, Is it different on the men's tour than the women's tour?, 'No, not at all., I think just because you'...   \n",
       "1  [BASEL, Switzerland (AP), Roger Federer advanced to the 14th Swiss Indoors final of his career by beating seventh-seeded Daniil Medvedev 6-1, 6-4 on Saturday., Seeking a ninth title at his hometown event, and a 99th overall, Federer will play 93th-ranked Marius Copil on Sunday., Federer dominated the 20th-ranked Medvedev and had his first match-point chance to break serve again at 5-1., He then dropped his serve to love, and let another match point slip in Medvedev's next service game by netting a backhand., He clinched on his fourth chance when Medvedev netted from the baseline., Copil upset expectations of a Federer final against Alexander Zverev in a 6-3, 6-7 (6), 6-4 win over the fifth-ranked German in the earlier semifinal., The Romanian aims for a first title after arriving at Basel without a career win over a top-10 opponent., Copil has two after also beating No., 6 Marin Cilic in the second round., Copil fired 26 aces past Zverev and never dropped serve, clinching after 2 1...   \n",
       "\n",
       "                                                                                                                                                                                                                                                                                                                                                                                                                                                                                                                                                                                                                                                                                                                                                                                                                                                                                                                                                                                                                          WordsInSentences  \n",
       "0  [[maria, sharapova, has, basically, no, friends, as, tennis, players, on, the, wta, tour,  ], [the, russian, player, has, no, problems, in, openly, speaking, about, it, and, in, a, recent, interview, she, said,  ,  , i, do, not, really, hide, any, feelings, too, much,  ], [i, think, everyone, knows, this, is, my, job, here,  ], [when, i, am, on, the, courts, or, when, i, am, on, the, court, playing,  , i, am, a, competitor, and, i, want, to, beat, every, single, person, whether, they, are, in, the, locker, room, or, across, the, net so, i, am, not, the, one, to, strike, up, a, conversation, about, the, weather, and, know, that, in, the, next, few, minutes, i, have, to, go, and, try, to, win, a, tennis, match,  ], [i, am, a, pretty, competitive, girl,  ], [i, say, my, hellos,  , but, i, am, not, sending, any, players, flowers, as, well,  ], [uhm,  , i, am, not, really, friendly, or, close, to, many, players,  ], [i, have, not, a, lot, of, friends, away, from, the, courts,  ,  ], [wh...  \n",
       "1  [[basel,  , switzerland,  , ap,  ,  , roger, federer, advanced, to, the,   th, swiss, indoors, final, of, his, career, by, beating, seventh seeded, daniil, medvedev,    ,  ,    , on, saturday,  ], [seeking, a, ninth, title, at, his, hometown, event,  , and, a,   th, overall,  , federer, will, play,   th ranked, marius, copil, on, sunday,  ], [federer, dominated, the,   th ranked, medvedev, and, had, his, first, match point, chance, to, break, serve, again, at,    ,  ], [he, then, dropped, his, serve, to, love,  , and, let, another, match, point, slip, in, medvedev,  s, next, service, game, by, netting, a, backhand,  ], [he, clinched, on, his, fourth, chance, when, medvedev, netted, from, the, baseline,  ], [copil, upset, expectations, of, a, federer, final, against, alexander, zverev, in, a,    ,  ,    ,  ,  ,  ,  ,    , win, over, the, fifth ranked, german, in, the, earlier, semifinal,  ], [the, romanian, aims, for, a, first, title, after, arriving, at, basel, without, a, career, ...  "
      ]
     },
     "execution_count": 12,
     "metadata": {},
     "output_type": "execute_result"
    }
   ],
   "source": [
    "articles = articles[['SentencesInArticle', 'WordsInSentences']]\n",
    "articles.head(2)"
   ]
  },
  {
   "cell_type": "markdown",
   "id": "3a3f9474",
   "metadata": {},
   "source": [
    "he next step is to create the sentence vectors. We define the following functions,\n",
    "namely sentence_vector() and sentences_to_vectors(). We will also use a vector\n",
    "size of 50:"
   ]
  },
  {
   "cell_type": "code",
   "execution_count": 13,
   "id": "ac735e6d",
   "metadata": {},
   "outputs": [],
   "source": [
    "VECTOR_SIZE = 50\n",
    "EMPTY_VECTOR = np.zeros(VECTOR_SIZE)\n",
    "\n",
    "def sentence_vector(sentence):\n",
    "    return sum([glove_vectors.get(word, EMPTY_VECTOR)\n",
    "               for word in sentence])/len(sentence)\n",
    "\n",
    "def sentence_to_vectors(sentences):\n",
    "    return [sentence_vector(sentence) for sentence in sentences]"
   ]
  },
  {
   "cell_type": "markdown",
   "id": "e3071d1d",
   "metadata": {},
   "source": [
    "Now that we have the function to create sentence vectors, we can run it. It will\n",
    "create another column in the DataFrame, called SentenceVectors:"
   ]
  },
  {
   "cell_type": "code",
   "execution_count": 14,
   "id": "34d0cc69",
   "metadata": {},
   "outputs": [],
   "source": [
    "articles['SentenceVector'] = \\\n",
    "            articles.WordsInSentences.apply(sentence_to_vectors)"
   ]
  },
  {
   "cell_type": "markdown",
   "id": "29109f6d",
   "metadata": {},
   "source": [
    "The next step is to create a similarity matrix. The similarity matrix captures the\n",
    "degree to which one sentence is similar to another for a given article. The function\n",
    "is as follows:"
   ]
  },
  {
   "cell_type": "code",
   "execution_count": 15,
   "id": "0eba6220",
   "metadata": {},
   "outputs": [],
   "source": [
    "from sklearn.metrics.pairwise import cosine_similarity\n",
    "\n",
    "def similarity_matrix(sentence_vectors):\n",
    "    sim_mat = np.zeros([len(sentence_vectors), len(sentence_vectors)])\n",
    "    for i in range(len(sentence_vectors)):\n",
    "        for j in range(len(sentence_vectors)):\n",
    "            element_i = sentence_vectors[i].reshape(1, VECTOR_SIZE)\n",
    "            element_j = sentence_vectors[j].reshape(1, VECTOR_SIZE)\n",
    "            sim_mat[i][j] = cosine_similarity(element_i, element_j)[0,0]\n",
    "    return sim_mat"
   ]
  },
  {
   "cell_type": "markdown",
   "id": "7d6016ba",
   "metadata": {},
   "source": [
    "Now we run the function to create the similarity matrices for each article:"
   ]
  },
  {
   "cell_type": "code",
   "execution_count": 16,
   "id": "57ac83a6",
   "metadata": {},
   "outputs": [],
   "source": [
    "articles['SimMatrix'] = articles['SimMatrix']=\\\n",
    "        articles.SentenceVector.apply(similarity_matrix)"
   ]
  },
  {
   "cell_type": "markdown",
   "id": "888f3a58",
   "metadata": {},
   "source": [
    "The step after creating similarity matrices is to create a graph from the matrix.\n",
    "We use a Python library called networkx to create the graph. The graph will help\n",
    "us determine the relative importance of each sentence based on how much it is\n",
    "similar to other sentences:"
   ]
  },
  {
   "cell_type": "code",
   "execution_count": 17,
   "id": "db0caecd",
   "metadata": {},
   "outputs": [],
   "source": [
    "import networkx as nx\n",
    "\n",
    "def compute_graph(sim_matrix):\n",
    "    nx_graph = nx.from_numpy_array(sim_matrix)\n",
    "    scores = nx.pagerank(nx_graph)\n",
    "    return scores"
   ]
  },
  {
   "cell_type": "code",
   "execution_count": 18,
   "id": "ecf4e320",
   "metadata": {},
   "outputs": [],
   "source": [
    "# to create the new column with the graph for that article\n",
    "\n",
    "articles['Graph'] = articles.SimMatrix.apply(compute_graph)"
   ]
  },
  {
   "cell_type": "markdown",
   "id": "8778cdf2",
   "metadata": {},
   "source": [
    "Take a look at the articles using articles.head(). You can see each of the columns\n",
    "that we added, all the way to the Graph column:"
   ]
  },
  {
   "cell_type": "code",
   "execution_count": 19,
   "id": "dbf5b00a",
   "metadata": {},
   "outputs": [
    {
     "data": {
      "text/html": [
       "<div>\n",
       "<style scoped>\n",
       "    .dataframe tbody tr th:only-of-type {\n",
       "        vertical-align: middle;\n",
       "    }\n",
       "\n",
       "    .dataframe tbody tr th {\n",
       "        vertical-align: top;\n",
       "    }\n",
       "\n",
       "    .dataframe thead th {\n",
       "        text-align: right;\n",
       "    }\n",
       "</style>\n",
       "<table border=\"1\" class=\"dataframe\">\n",
       "  <thead>\n",
       "    <tr style=\"text-align: right;\">\n",
       "      <th></th>\n",
       "      <th>SentencesInArticle</th>\n",
       "      <th>WordsInSentences</th>\n",
       "      <th>SentenceVector</th>\n",
       "      <th>SimMatrix</th>\n",
       "      <th>Graph</th>\n",
       "    </tr>\n",
       "  </thead>\n",
       "  <tbody>\n",
       "    <tr>\n",
       "      <th>0</th>\n",
       "      <td>[Maria Sharapova has basically no friends as tennis players on the WTA Tour., The Russian player has no problems in openly speaking about it and in a recent interview she said: 'I don't really hide any feelings too much., I think everyone knows this is my job here., When I'm on the courts or when I'm on the court playing, I'm a competitor and I want to beat every single person whether they're in the locker room or across the net.So I'm not the one to strike up a conversation about the weather and know that in the next few minutes I have to go and try to win a tennis match., I'm a pretty competitive girl., I say my hellos, but I'm not sending any players flowers as well., Uhm, I'm not really friendly or close to many players., I have not a lot of friends away from the courts.', When she said she is not really close to a lot of players, is that something strategic that she is doing?, Is it different on the men's tour than the women's tour?, 'No, not at all., I think just because you'...</td>\n",
       "      <td>[[maria, sharapova, has, basically, no, friends, as, tennis, players, on, the, wta, tour,  ], [the, russian, player, has, no, problems, in, openly, speaking, about, it, and, in, a, recent, interview, she, said,  ,  , i, do, not, really, hide, any, feelings, too, much,  ], [i, think, everyone, knows, this, is, my, job, here,  ], [when, i, am, on, the, courts, or, when, i, am, on, the, court, playing,  , i, am, a, competitor, and, i, want, to, beat, every, single, person, whether, they, are, in, the, locker, room, or, across, the, net so, i, am, not, the, one, to, strike, up, a, conversation, about, the, weather, and, know, that, in, the, next, few, minutes, i, have, to, go, and, try, to, win, a, tennis, match,  ], [i, am, a, pretty, competitive, girl,  ], [i, say, my, hellos,  , but, i, am, not, sending, any, players, flowers, as, well,  ], [uhm,  , i, am, not, really, friendly, or, close, to, many, players,  ], [i, have, not, a, lot, of, friends, away, from, the, courts,  ,  ], [wh...</td>\n",
       "      <td>[[0.06649714285714288, 0.48873992857142873, -0.21009307142857142, 0.38912571428571424, -0.08841421428571429, -0.09431128571428572, -0.37479500000000004, 0.37201680000000004, -0.3327198735714286, -0.10679078571428571, 0.10778792857142858, -0.13581192857142857, -0.6358756785714287, 0.013304142857142851, 0.7273357500000001, 0.04358028571428572, -0.10138370714285717, 0.050696714285714296, -0.27315264285714286, -0.17919542857142856, -0.22918825714285718, 0.28847542857142855, 0.010318428571428574, 0.2803609285714285, 0.11280642857142856, -1.233634285714286, -0.2712247142857143, -0.07170157142857143, -0.3025570714285714, -0.34274057142857145, 2.533484285714286, 0.2289164285714286, -0.03808821428571428, 0.06688921428571427, 0.021217137857142854, -0.010322864285714297, 0.26075207142857143, 0.43792228571428576, -0.01944572142857142, -0.5688658571428572, -0.00652885714285713, -0.08326750000000001, 0.16795221428571425, 0.06045814285714286, 0.1047477142857143, -0.02568685714285714, -0.063918064...</td>\n",
       "      <td>[[1.0, 0.880420442283511, 0.8400741992486214, 0.9129596149615925, 0.8445816500505549, 0.8497893583785371, 0.8768521662830951, 0.8862589251673211, 0.8766881842306722, 0.9280216219887607, 0.8707611906386944, 0.8895783304964502, 0.8313178033584997, 0.8565959297474461, 0.8824241286286073, 0.8868385761498726, 0.8136190246763895], [0.880420442283511, 0.9999999999999999, 0.9408964676641774, 0.9686965549113967, 0.8942781393973298, 0.9586334393985559, 0.9585076101382632, 0.9730773874995188, 0.987312380978821, 0.9197064789163073, 0.9469263577646915, 0.9640488970318377, 0.9632944418681552, 0.9732690670320118, 0.9616582246780773, 0.9741510958493368, 0.9564473923061918], [0.8400741992486214, 0.9408964676641774, 1.0, 0.9303313796847563, 0.9448434579223796, 0.9570165239566268, 0.9414391114508267, 0.9183752804522204, 0.9549370028865451, 0.845894499773654, 0.8930468970782345, 0.9547127695525697, 0.9563604609626242, 0.9106663731073267, 0.9699327533307837, 0.9504200626490285, 0.9117502844684767], [0....</td>\n",
       "      <td>{0: 0.055568139884070805, 1: 0.05961253482268301, 2: 0.05835905713871201, 3: 0.05969357315606923, 4: 0.056413795797798434, 5: 0.05919692463379402, 6: 0.05936817757697518, 7: 0.059540672149595374, 8: 0.059581680340446246, 9: 0.0573558862555368, 10: 0.058741910919030756, 11: 0.05996874889144999, 12: 0.05921067366943052, 13: 0.05920908740911638, 14: 0.05973212600604197, 15: 0.05975227548490714, 16: 0.05869473586434216}</td>\n",
       "    </tr>\n",
       "    <tr>\n",
       "      <th>1</th>\n",
       "      <td>[BASEL, Switzerland (AP), Roger Federer advanced to the 14th Swiss Indoors final of his career by beating seventh-seeded Daniil Medvedev 6-1, 6-4 on Saturday., Seeking a ninth title at his hometown event, and a 99th overall, Federer will play 93th-ranked Marius Copil on Sunday., Federer dominated the 20th-ranked Medvedev and had his first match-point chance to break serve again at 5-1., He then dropped his serve to love, and let another match point slip in Medvedev's next service game by netting a backhand., He clinched on his fourth chance when Medvedev netted from the baseline., Copil upset expectations of a Federer final against Alexander Zverev in a 6-3, 6-7 (6), 6-4 win over the fifth-ranked German in the earlier semifinal., The Romanian aims for a first title after arriving at Basel without a career win over a top-10 opponent., Copil has two after also beating No., 6 Marin Cilic in the second round., Copil fired 26 aces past Zverev and never dropped serve, clinching after 2 1...</td>\n",
       "      <td>[[basel,  , switzerland,  , ap,  ,  , roger, federer, advanced, to, the,   th, swiss, indoors, final, of, his, career, by, beating, seventh seeded, daniil, medvedev,    ,  ,    , on, saturday,  ], [seeking, a, ninth, title, at, his, hometown, event,  , and, a,   th, overall,  , federer, will, play,   th ranked, marius, copil, on, sunday,  ], [federer, dominated, the,   th ranked, medvedev, and, had, his, first, match point, chance, to, break, serve, again, at,    ,  ], [he, then, dropped, his, serve, to, love,  , and, let, another, match, point, slip, in, medvedev,  s, next, service, game, by, netting, a, backhand,  ], [he, clinched, on, his, fourth, chance, when, medvedev, netted, from, the, baseline,  ], [copil, upset, expectations, of, a, federer, final, against, alexander, zverev, in, a,    ,  ,    ,  ,  ,  ,  ,    , win, over, the, fifth ranked, german, in, the, earlier, semifinal,  ], [the, romanian, aims, for, a, first, title, after, arriving, at, basel, without, a, career, ...</td>\n",
       "      <td>[[-0.02465296666666666, 0.2400560333333333, -0.10536216666666666, 0.21081253333333336, -0.03645155233333333, -0.042997866666666655, -0.19500617000000003, 0.3007772666666666, -0.293355641, -0.07137086666666666, 0.14042513333333337, -0.19274083333333333, -0.46996066666666675, -0.009365766666666662, 0.3783110166666666, -0.04721060000000001, -0.10228926666666666, -0.3272935233333333, -0.40707603333333325, 0.08211161500000003, 0.021695583333333324, 0.021872766666666658, -0.029678033333333347, -0.017931833333333317, -0.016694116666666658, -0.8543214533333334, 0.0724825, -0.1388103666666667, -0.17359010000000002, -0.07554683333333335, 1.5207526666666664, 0.10069436666666667, -0.048058656666666665, -0.03162566666666667, -0.09364310233333334, -0.06098629, 0.14263123333333333, 0.4355126, 0.017220209999999993, -0.15130986666666668, 0.17310109999999995, -0.029344866666666684, 0.25032856666666664, -0.13642141, 0.12189263333333336, 0.1029258, -0.03224133666666667, -0.08343183333333333, -0.033281...</td>\n",
       "      <td>[[1.0000000000000004, 0.9369616127336787, 0.9360162939857927, 0.8968953940022328, 0.915451743028405, 0.9596742988574188, 0.9295615344182592, 0.8988143731766691, 0.8793675542228858, 0.9181545104269556, 0.9384581344745263, 0.935332591742801], [0.9369616127336787, 0.9999999999999996, 0.9678313715135687, 0.9567010581248094, 0.9567118521107311, 0.9572535010517572, 0.9696561319869159, 0.9244608189735068, 0.8830619766614818, 0.9485575871239776, 0.9471437990999763, 0.9573093315765784], [0.9360162939857927, 0.9678313715135687, 0.9999999999999999, 0.9737321759814898, 0.968496171957601, 0.9522891282891993, 0.9649846481755519, 0.9404509807877245, 0.846794861187092, 0.9573374368634295, 0.9613973841346659, 0.9771794087045342], [0.8968953940022328, 0.9567010581248094, 0.9737321759814898, 0.9999999999999998, 0.9661103500709587, 0.9295823318527853, 0.9586445544924194, 0.9355869628975371, 0.8175707445510735, 0.9618326084760767, 0.9351837628160276, 0.963992909582715], [0.915451743028405, 0.9567118521...</td>\n",
       "      <td>{0: 0.08267479959810231, 1: 0.0843150900001964, 2: 0.0845691057978335, 3: 0.08361886528545658, 4: 0.08378217872332938, 5: 0.08416423863265725, 6: 0.08413132986432649, 7: 0.08230395894320981, 8: 0.07804765213647141, 9: 0.08396620220117408, 10: 0.08405621482598975, 11: 0.08437036399125288}</td>\n",
       "    </tr>\n",
       "  </tbody>\n",
       "</table>\n",
       "</div>"
      ],
      "text/plain": [
       "                                                                                                                                                                                                                                                                                                                                                                                                                                                                                                                                                                                                                                                                                                                                                                                                                                                                                                                                                                                                                        SentencesInArticle  \\\n",
       "0  [Maria Sharapova has basically no friends as tennis players on the WTA Tour., The Russian player has no problems in openly speaking about it and in a recent interview she said: 'I don't really hide any feelings too much., I think everyone knows this is my job here., When I'm on the courts or when I'm on the court playing, I'm a competitor and I want to beat every single person whether they're in the locker room or across the net.So I'm not the one to strike up a conversation about the weather and know that in the next few minutes I have to go and try to win a tennis match., I'm a pretty competitive girl., I say my hellos, but I'm not sending any players flowers as well., Uhm, I'm not really friendly or close to many players., I have not a lot of friends away from the courts.', When she said she is not really close to a lot of players, is that something strategic that she is doing?, Is it different on the men's tour than the women's tour?, 'No, not at all., I think just because you'...   \n",
       "1  [BASEL, Switzerland (AP), Roger Federer advanced to the 14th Swiss Indoors final of his career by beating seventh-seeded Daniil Medvedev 6-1, 6-4 on Saturday., Seeking a ninth title at his hometown event, and a 99th overall, Federer will play 93th-ranked Marius Copil on Sunday., Federer dominated the 20th-ranked Medvedev and had his first match-point chance to break serve again at 5-1., He then dropped his serve to love, and let another match point slip in Medvedev's next service game by netting a backhand., He clinched on his fourth chance when Medvedev netted from the baseline., Copil upset expectations of a Federer final against Alexander Zverev in a 6-3, 6-7 (6), 6-4 win over the fifth-ranked German in the earlier semifinal., The Romanian aims for a first title after arriving at Basel without a career win over a top-10 opponent., Copil has two after also beating No., 6 Marin Cilic in the second round., Copil fired 26 aces past Zverev and never dropped serve, clinching after 2 1...   \n",
       "\n",
       "                                                                                                                                                                                                                                                                                                                                                                                                                                                                                                                                                                                                                                                                                                                                                                                                                                                                                                                                                                                                                          WordsInSentences  \\\n",
       "0  [[maria, sharapova, has, basically, no, friends, as, tennis, players, on, the, wta, tour,  ], [the, russian, player, has, no, problems, in, openly, speaking, about, it, and, in, a, recent, interview, she, said,  ,  , i, do, not, really, hide, any, feelings, too, much,  ], [i, think, everyone, knows, this, is, my, job, here,  ], [when, i, am, on, the, courts, or, when, i, am, on, the, court, playing,  , i, am, a, competitor, and, i, want, to, beat, every, single, person, whether, they, are, in, the, locker, room, or, across, the, net so, i, am, not, the, one, to, strike, up, a, conversation, about, the, weather, and, know, that, in, the, next, few, minutes, i, have, to, go, and, try, to, win, a, tennis, match,  ], [i, am, a, pretty, competitive, girl,  ], [i, say, my, hellos,  , but, i, am, not, sending, any, players, flowers, as, well,  ], [uhm,  , i, am, not, really, friendly, or, close, to, many, players,  ], [i, have, not, a, lot, of, friends, away, from, the, courts,  ,  ], [wh...   \n",
       "1  [[basel,  , switzerland,  , ap,  ,  , roger, federer, advanced, to, the,   th, swiss, indoors, final, of, his, career, by, beating, seventh seeded, daniil, medvedev,    ,  ,    , on, saturday,  ], [seeking, a, ninth, title, at, his, hometown, event,  , and, a,   th, overall,  , federer, will, play,   th ranked, marius, copil, on, sunday,  ], [federer, dominated, the,   th ranked, medvedev, and, had, his, first, match point, chance, to, break, serve, again, at,    ,  ], [he, then, dropped, his, serve, to, love,  , and, let, another, match, point, slip, in, medvedev,  s, next, service, game, by, netting, a, backhand,  ], [he, clinched, on, his, fourth, chance, when, medvedev, netted, from, the, baseline,  ], [copil, upset, expectations, of, a, federer, final, against, alexander, zverev, in, a,    ,  ,    ,  ,  ,  ,  ,    , win, over, the, fifth ranked, german, in, the, earlier, semifinal,  ], [the, romanian, aims, for, a, first, title, after, arriving, at, basel, without, a, career, ...   \n",
       "\n",
       "                                                                                                                                                                                                                                                                                                                                                                                                                                                                                                                                                                                                                                                                                                                                                                                                                                                                                                                                                                                                                            SentenceVector  \\\n",
       "0  [[0.06649714285714288, 0.48873992857142873, -0.21009307142857142, 0.38912571428571424, -0.08841421428571429, -0.09431128571428572, -0.37479500000000004, 0.37201680000000004, -0.3327198735714286, -0.10679078571428571, 0.10778792857142858, -0.13581192857142857, -0.6358756785714287, 0.013304142857142851, 0.7273357500000001, 0.04358028571428572, -0.10138370714285717, 0.050696714285714296, -0.27315264285714286, -0.17919542857142856, -0.22918825714285718, 0.28847542857142855, 0.010318428571428574, 0.2803609285714285, 0.11280642857142856, -1.233634285714286, -0.2712247142857143, -0.07170157142857143, -0.3025570714285714, -0.34274057142857145, 2.533484285714286, 0.2289164285714286, -0.03808821428571428, 0.06688921428571427, 0.021217137857142854, -0.010322864285714297, 0.26075207142857143, 0.43792228571428576, -0.01944572142857142, -0.5688658571428572, -0.00652885714285713, -0.08326750000000001, 0.16795221428571425, 0.06045814285714286, 0.1047477142857143, -0.02568685714285714, -0.063918064...   \n",
       "1  [[-0.02465296666666666, 0.2400560333333333, -0.10536216666666666, 0.21081253333333336, -0.03645155233333333, -0.042997866666666655, -0.19500617000000003, 0.3007772666666666, -0.293355641, -0.07137086666666666, 0.14042513333333337, -0.19274083333333333, -0.46996066666666675, -0.009365766666666662, 0.3783110166666666, -0.04721060000000001, -0.10228926666666666, -0.3272935233333333, -0.40707603333333325, 0.08211161500000003, 0.021695583333333324, 0.021872766666666658, -0.029678033333333347, -0.017931833333333317, -0.016694116666666658, -0.8543214533333334, 0.0724825, -0.1388103666666667, -0.17359010000000002, -0.07554683333333335, 1.5207526666666664, 0.10069436666666667, -0.048058656666666665, -0.03162566666666667, -0.09364310233333334, -0.06098629, 0.14263123333333333, 0.4355126, 0.017220209999999993, -0.15130986666666668, 0.17310109999999995, -0.029344866666666684, 0.25032856666666664, -0.13642141, 0.12189263333333336, 0.1029258, -0.03224133666666667, -0.08343183333333333, -0.033281...   \n",
       "\n",
       "                                                                                                                                                                                                                                                                                                                                                                                                                                                                                                                                                                                                                                                                                                                                                                                                                                                                                                                                                                                                                                 SimMatrix  \\\n",
       "0  [[1.0, 0.880420442283511, 0.8400741992486214, 0.9129596149615925, 0.8445816500505549, 0.8497893583785371, 0.8768521662830951, 0.8862589251673211, 0.8766881842306722, 0.9280216219887607, 0.8707611906386944, 0.8895783304964502, 0.8313178033584997, 0.8565959297474461, 0.8824241286286073, 0.8868385761498726, 0.8136190246763895], [0.880420442283511, 0.9999999999999999, 0.9408964676641774, 0.9686965549113967, 0.8942781393973298, 0.9586334393985559, 0.9585076101382632, 0.9730773874995188, 0.987312380978821, 0.9197064789163073, 0.9469263577646915, 0.9640488970318377, 0.9632944418681552, 0.9732690670320118, 0.9616582246780773, 0.9741510958493368, 0.9564473923061918], [0.8400741992486214, 0.9408964676641774, 1.0, 0.9303313796847563, 0.9448434579223796, 0.9570165239566268, 0.9414391114508267, 0.9183752804522204, 0.9549370028865451, 0.845894499773654, 0.8930468970782345, 0.9547127695525697, 0.9563604609626242, 0.9106663731073267, 0.9699327533307837, 0.9504200626490285, 0.9117502844684767], [0....   \n",
       "1  [[1.0000000000000004, 0.9369616127336787, 0.9360162939857927, 0.8968953940022328, 0.915451743028405, 0.9596742988574188, 0.9295615344182592, 0.8988143731766691, 0.8793675542228858, 0.9181545104269556, 0.9384581344745263, 0.935332591742801], [0.9369616127336787, 0.9999999999999996, 0.9678313715135687, 0.9567010581248094, 0.9567118521107311, 0.9572535010517572, 0.9696561319869159, 0.9244608189735068, 0.8830619766614818, 0.9485575871239776, 0.9471437990999763, 0.9573093315765784], [0.9360162939857927, 0.9678313715135687, 0.9999999999999999, 0.9737321759814898, 0.968496171957601, 0.9522891282891993, 0.9649846481755519, 0.9404509807877245, 0.846794861187092, 0.9573374368634295, 0.9613973841346659, 0.9771794087045342], [0.8968953940022328, 0.9567010581248094, 0.9737321759814898, 0.9999999999999998, 0.9661103500709587, 0.9295823318527853, 0.9586445544924194, 0.9355869628975371, 0.8175707445510735, 0.9618326084760767, 0.9351837628160276, 0.963992909582715], [0.915451743028405, 0.9567118521...   \n",
       "\n",
       "                                                                                                                                                                                                                                                                                                                                                                                                                                 Graph  \n",
       "0  {0: 0.055568139884070805, 1: 0.05961253482268301, 2: 0.05835905713871201, 3: 0.05969357315606923, 4: 0.056413795797798434, 5: 0.05919692463379402, 6: 0.05936817757697518, 7: 0.059540672149595374, 8: 0.059581680340446246, 9: 0.0573558862555368, 10: 0.058741910919030756, 11: 0.05996874889144999, 12: 0.05921067366943052, 13: 0.05920908740911638, 14: 0.05973212600604197, 15: 0.05975227548490714, 16: 0.05869473586434216}  \n",
       "1                                                                                                                                     {0: 0.08267479959810231, 1: 0.0843150900001964, 2: 0.0845691057978335, 3: 0.08361886528545658, 4: 0.08378217872332938, 5: 0.08416423863265725, 6: 0.08413132986432649, 7: 0.08230395894320981, 8: 0.07804765213647141, 9: 0.08396620220117408, 10: 0.08405621482598975, 11: 0.08437036399125288}  "
      ]
     },
     "execution_count": 19,
     "metadata": {},
     "output_type": "execute_result"
    }
   ],
   "source": [
    "articles.head(2)"
   ]
  },
  {
   "cell_type": "markdown",
   "id": "41bb0e87",
   "metadata": {},
   "source": [
    "The graph contains a score and a numeric index to a sentence. We have to write\n",
    "a function that will rank the scores and return the top n sentences by their graph\n",
    "scores:"
   ]
  },
  {
   "cell_type": "code",
   "execution_count": 20,
   "id": "9c1f624c",
   "metadata": {},
   "outputs": [],
   "source": [
    "def get_ranked_sentences(sentences, scores, n=3):\n",
    "    top_scores = sorted(((scores[i], s)\n",
    "                       for i, s in enumerate(sentences)), reverse=True)\n",
    "    top_n_scores = [sentence for score, sentence in top_scores[:n]]\n",
    "    return \" \".join(top_n_scores)"
   ]
  },
  {
   "cell_type": "markdown",
   "id": "99e2d45e",
   "metadata": {},
   "source": [
    "ter creating the function, we can apply it to the DataFrame to create a new\n",
    "column, called Summary. This will contain the top three sentences for each article:"
   ]
  },
  {
   "cell_type": "code",
   "execution_count": 21,
   "id": "057e9fef",
   "metadata": {},
   "outputs": [],
   "source": [
    "articles['Summary'] = articles.apply(lambda d: get_ranked_sentences(d.SentencesInArticle,d.Graph), axis=1)"
   ]
  },
  {
   "cell_type": "code",
   "execution_count": 22,
   "id": "c58edf51",
   "metadata": {},
   "outputs": [
    {
     "data": {
      "text/plain": [
       "\"I think just because you're in the same sport doesn't mean that you have to be friends with everyone just because you're categorized, you're a tennis player, so you're going to get along with tennis players. But ultimately tennis is just a very small part of what we do. I think everyone just thinks because we're tennis players we should be the greatest of friends.\""
      ]
     },
     "execution_count": 22,
     "metadata": {},
     "output_type": "execute_result"
    }
   ],
   "source": [
    "# Now you can see the summary for each article:\n",
    "articles.loc[0].Summary"
   ]
  },
  {
   "cell_type": "code",
   "execution_count": 23,
   "id": "18e11847",
   "metadata": {},
   "outputs": [
    {
     "data": {
      "text/plain": [
       "'Federer dominated the 20th-ranked Medvedev and had his first match-point chance to break serve again at 5-1. Federer had an easier time than in his only previous match against Medvedev, a three-setter at Shanghai two weeks ago. Seeking a ninth title at his hometown event, and a 99th overall, Federer will play 93th-ranked Marius Copil on Sunday.'"
      ]
     },
     "execution_count": 23,
     "metadata": {},
     "output_type": "execute_result"
    }
   ],
   "source": [
    "# To check the summary of ID 1, type the following code:\n",
    "articles.loc[1].Summary"
   ]
  }
 ],
 "metadata": {
  "kernelspec": {
   "display_name": "Python 3 (ipykernel)",
   "language": "python",
   "name": "python3"
  },
  "language_info": {
   "codemirror_mode": {
    "name": "ipython",
    "version": 3
   },
   "file_extension": ".py",
   "mimetype": "text/x-python",
   "name": "python",
   "nbconvert_exporter": "python",
   "pygments_lexer": "ipython3",
   "version": "3.9.13"
  }
 },
 "nbformat": 4,
 "nbformat_minor": 5
}
